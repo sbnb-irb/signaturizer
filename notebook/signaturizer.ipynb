{
  "nbformat": 4,
  "nbformat_minor": 0,
  "metadata": {
    "colab": {
      "name": "signaturizer.ipynb",
      "provenance": [],
      "toc_visible": true
    },
    "kernelspec": {
      "name": "python3",
      "display_name": "Python 3"
    }
  },
  "cells": [
    {
      "cell_type": "markdown",
      "metadata": {
        "id": "Se3M6z2uQIGU",
        "colab_type": "text"
      },
      "source": [
        "# Setup\n"
      ]
    },
    {
      "cell_type": "markdown",
      "metadata": {
        "id": "DIMxNnjfQU2G",
        "colab_type": "text"
      },
      "source": [
        "Google’s updated their Colab instances to use TensorFlow 2.X by default. The last stable version of the Signaturizers is still on TensorFlow 1.X."
      ]
    },
    {
      "cell_type": "code",
      "metadata": {
        "id": "Z605c7pvP3tx",
        "colab_type": "code",
        "colab": {
          "base_uri": "https://localhost:8080/",
          "height": 34
        },
        "outputId": "2e2baf26-e02c-4058-bb85-74e1b3e094cb"
      },
      "source": [
        "%tensorflow_version 1.x"
      ],
      "execution_count": null,
      "outputs": [
        {
          "output_type": "stream",
          "text": [
            "TensorFlow 1.x selected.\n"
          ],
          "name": "stdout"
        }
      ]
    },
    {
      "cell_type": "markdown",
      "metadata": {
        "id": "B4OHQNcBMvp_",
        "colab_type": "text"
      },
      "source": [
        "## Install RDKit"
      ]
    },
    {
      "cell_type": "code",
      "metadata": {
        "id": "ivgaJ2f5M1x7",
        "colab_type": "code",
        "colab": {
          "base_uri": "https://localhost:8080/",
          "height": 1000
        },
        "outputId": "33952038-1d51-4fcf-e5e4-ae0205232cc4"
      },
      "source": [
        "!wget -c https://repo.continuum.io/miniconda/Miniconda3-latest-Linux-x86_64.sh\n",
        "!chmod +x Miniconda3-latest-Linux-x86_64.sh\n",
        "!time bash ./Miniconda3-latest-Linux-x86_64.sh -b -f -p /usr/local\n",
        "!time conda install -q -y -c conda-forge rdkit"
      ],
      "execution_count": null,
      "outputs": [
        {
          "output_type": "stream",
          "text": [
            "--2020-07-13 13:03:01--  https://repo.continuum.io/miniconda/Miniconda3-latest-Linux-x86_64.sh\n",
            "Resolving repo.continuum.io (repo.continuum.io)... 104.18.201.79, 104.18.200.79, 2606:4700::6812:c84f, ...\n",
            "Connecting to repo.continuum.io (repo.continuum.io)|104.18.201.79|:443... connected.\n",
            "HTTP request sent, awaiting response... 301 Moved Permanently\n",
            "Location: https://repo.anaconda.com/miniconda/Miniconda3-latest-Linux-x86_64.sh [following]\n",
            "--2020-07-13 13:03:02--  https://repo.anaconda.com/miniconda/Miniconda3-latest-Linux-x86_64.sh\n",
            "Resolving repo.anaconda.com (repo.anaconda.com)... 104.16.130.3, 104.16.131.3, 2606:4700::6810:8203, ...\n",
            "Connecting to repo.anaconda.com (repo.anaconda.com)|104.16.130.3|:443... connected.\n",
            "HTTP request sent, awaiting response... 200 OK\n",
            "Length: 88867207 (85M) [application/x-sh]\n",
            "Saving to: ‘Miniconda3-latest-Linux-x86_64.sh’\n",
            "\n",
            "Miniconda3-latest-L 100%[===================>]  84.75M   160MB/s    in 0.5s    \n",
            "\n",
            "2020-07-13 13:03:02 (160 MB/s) - ‘Miniconda3-latest-Linux-x86_64.sh’ saved [88867207/88867207]\n",
            "\n",
            "PREFIX=/usr/local\n",
            "Unpacking payload ...\n",
            "Collecting package metadata (current_repodata.json): - \b\b\\ \b\bdone\n",
            "Solving environment: / \b\bdone\n",
            "\n",
            "## Package Plan ##\n",
            "\n",
            "  environment location: /usr/local\n",
            "\n",
            "  added / updated specs:\n",
            "    - _libgcc_mutex==0.1=main\n",
            "    - ca-certificates==2020.1.1=0\n",
            "    - certifi==2020.4.5.1=py37_0\n",
            "    - cffi==1.14.0=py37he30daa8_1\n",
            "    - chardet==3.0.4=py37_1003\n",
            "    - conda-package-handling==1.6.1=py37h7b6447c_0\n",
            "    - conda==4.8.3=py37_0\n",
            "    - cryptography==2.9.2=py37h1ba5d50_0\n",
            "    - idna==2.9=py_1\n",
            "    - ld_impl_linux-64==2.33.1=h53a641e_7\n",
            "    - libedit==3.1.20181209=hc058e9b_0\n",
            "    - libffi==3.3=he6710b0_1\n",
            "    - libgcc-ng==9.1.0=hdf63c60_0\n",
            "    - libstdcxx-ng==9.1.0=hdf63c60_0\n",
            "    - ncurses==6.2=he6710b0_1\n",
            "    - openssl==1.1.1g=h7b6447c_0\n",
            "    - pip==20.0.2=py37_3\n",
            "    - pycosat==0.6.3=py37h7b6447c_0\n",
            "    - pycparser==2.20=py_0\n",
            "    - pyopenssl==19.1.0=py37_0\n",
            "    - pysocks==1.7.1=py37_0\n",
            "    - python==3.7.7=hcff3b4d_5\n",
            "    - readline==8.0=h7b6447c_0\n",
            "    - requests==2.23.0=py37_0\n",
            "    - ruamel_yaml==0.15.87=py37h7b6447c_0\n",
            "    - setuptools==46.4.0=py37_0\n",
            "    - six==1.14.0=py37_0\n",
            "    - sqlite==3.31.1=h62c20be_1\n",
            "    - tk==8.6.8=hbc83047_0\n",
            "    - tqdm==4.46.0=py_0\n",
            "    - urllib3==1.25.8=py37_0\n",
            "    - wheel==0.34.2=py37_0\n",
            "    - xz==5.2.5=h7b6447c_0\n",
            "    - yaml==0.1.7=had09818_2\n",
            "    - zlib==1.2.11=h7b6447c_3\n",
            "\n",
            "\n",
            "The following NEW packages will be INSTALLED:\n",
            "\n",
            "  _libgcc_mutex      pkgs/main/linux-64::_libgcc_mutex-0.1-main\n",
            "  ca-certificates    pkgs/main/linux-64::ca-certificates-2020.1.1-0\n",
            "  certifi            pkgs/main/linux-64::certifi-2020.4.5.1-py37_0\n",
            "  cffi               pkgs/main/linux-64::cffi-1.14.0-py37he30daa8_1\n",
            "  chardet            pkgs/main/linux-64::chardet-3.0.4-py37_1003\n",
            "  conda              pkgs/main/linux-64::conda-4.8.3-py37_0\n",
            "  conda-package-han~ pkgs/main/linux-64::conda-package-handling-1.6.1-py37h7b6447c_0\n",
            "  cryptography       pkgs/main/linux-64::cryptography-2.9.2-py37h1ba5d50_0\n",
            "  idna               pkgs/main/noarch::idna-2.9-py_1\n",
            "  ld_impl_linux-64   pkgs/main/linux-64::ld_impl_linux-64-2.33.1-h53a641e_7\n",
            "  libedit            pkgs/main/linux-64::libedit-3.1.20181209-hc058e9b_0\n",
            "  libffi             pkgs/main/linux-64::libffi-3.3-he6710b0_1\n",
            "  libgcc-ng          pkgs/main/linux-64::libgcc-ng-9.1.0-hdf63c60_0\n",
            "  libstdcxx-ng       pkgs/main/linux-64::libstdcxx-ng-9.1.0-hdf63c60_0\n",
            "  ncurses            pkgs/main/linux-64::ncurses-6.2-he6710b0_1\n",
            "  openssl            pkgs/main/linux-64::openssl-1.1.1g-h7b6447c_0\n",
            "  pip                pkgs/main/linux-64::pip-20.0.2-py37_3\n",
            "  pycosat            pkgs/main/linux-64::pycosat-0.6.3-py37h7b6447c_0\n",
            "  pycparser          pkgs/main/noarch::pycparser-2.20-py_0\n",
            "  pyopenssl          pkgs/main/linux-64::pyopenssl-19.1.0-py37_0\n",
            "  pysocks            pkgs/main/linux-64::pysocks-1.7.1-py37_0\n",
            "  python             pkgs/main/linux-64::python-3.7.7-hcff3b4d_5\n",
            "  readline           pkgs/main/linux-64::readline-8.0-h7b6447c_0\n",
            "  requests           pkgs/main/linux-64::requests-2.23.0-py37_0\n",
            "  ruamel_yaml        pkgs/main/linux-64::ruamel_yaml-0.15.87-py37h7b6447c_0\n",
            "  setuptools         pkgs/main/linux-64::setuptools-46.4.0-py37_0\n",
            "  six                pkgs/main/linux-64::six-1.14.0-py37_0\n",
            "  sqlite             pkgs/main/linux-64::sqlite-3.31.1-h62c20be_1\n",
            "  tk                 pkgs/main/linux-64::tk-8.6.8-hbc83047_0\n",
            "  tqdm               pkgs/main/noarch::tqdm-4.46.0-py_0\n",
            "  urllib3            pkgs/main/linux-64::urllib3-1.25.8-py37_0\n",
            "  wheel              pkgs/main/linux-64::wheel-0.34.2-py37_0\n",
            "  xz                 pkgs/main/linux-64::xz-5.2.5-h7b6447c_0\n",
            "  yaml               pkgs/main/linux-64::yaml-0.1.7-had09818_2\n",
            "  zlib               pkgs/main/linux-64::zlib-1.2.11-h7b6447c_3\n",
            "\n",
            "\n",
            "Preparing transaction: \\ \b\b| \b\b/ \b\bdone\n",
            "Executing transaction: \\ \b\b| \b\b/ \b\b- \b\b\\ \b\b| \b\b/ \b\b- \b\b\\ \b\b| \b\b/ \b\b- \b\b\\ \b\bdone\n",
            "installation finished.\n",
            "WARNING:\n",
            "    You currently have a PYTHONPATH environment variable set. This may cause\n",
            "    unexpected behavior when running the Python interpreter in Miniconda3.\n",
            "    For best results, please verify that your PYTHONPATH only points to\n",
            "    directories of packages that are compatible with the Python interpreter\n",
            "    in Miniconda3: /usr/local\n",
            "\n",
            "real\t0m26.111s\n",
            "user\t0m13.898s\n",
            "sys\t0m4.629s\n",
            "Collecting package metadata (current_repodata.json): ...working... done\n",
            "Solving environment: ...working... done\n",
            "\n",
            "## Package Plan ##\n",
            "\n",
            "  environment location: /usr/local\n",
            "\n",
            "  added / updated specs:\n",
            "    - rdkit\n",
            "\n",
            "\n",
            "The following packages will be downloaded:\n",
            "\n",
            "    package                    |            build\n",
            "    ---------------------------|-----------------\n",
            "    boost-1.72.0               |   py37h9de70de_0         316 KB  conda-forge\n",
            "    boost-cpp-1.72.0           |       h7b93d67_2        16.3 MB  conda-forge\n",
            "    bzip2-1.0.8                |       h516909a_2         396 KB  conda-forge\n",
            "    ca-certificates-2020.6.20  |       hecda079_0         145 KB  conda-forge\n",
            "    cairo-1.16.0               |    h3fc0475_1005         1.5 MB  conda-forge\n",
            "    certifi-2020.6.20          |   py37hc8dfbb8_0         151 KB  conda-forge\n",
            "    conda-4.8.3                |   py37hc8dfbb8_1         3.0 MB  conda-forge\n",
            "    fontconfig-2.13.1          |    h1056068_1002         365 KB  conda-forge\n",
            "    freetype-2.10.2            |       he06d7ca_0         905 KB  conda-forge\n",
            "    glib-2.65.0                |       h3eb4bd4_0         2.9 MB\n",
            "    icu-67.1                   |       he1b5a44_0        12.9 MB  conda-forge\n",
            "    jpeg-9d                    |       h516909a_0         266 KB  conda-forge\n",
            "    libblas-3.8.0              |      14_openblas          10 KB  conda-forge\n",
            "    libcblas-3.8.0             |      14_openblas          10 KB  conda-forge\n",
            "    libgfortran-ng-7.5.0       |       hdf63c60_6         1.7 MB  conda-forge\n",
            "    libiconv-1.15              |    h516909a_1006         2.0 MB  conda-forge\n",
            "    liblapack-3.8.0            |      14_openblas          10 KB  conda-forge\n",
            "    libopenblas-0.3.7          |       h5ec1e0e_6         7.6 MB  conda-forge\n",
            "    libpng-1.6.37              |       hed695b0_1         308 KB  conda-forge\n",
            "    libtiff-4.1.0              |       hc7e4089_6         668 KB  conda-forge\n",
            "    libuuid-2.32.1             |    h14c3975_1000          26 KB  conda-forge\n",
            "    libwebp-base-1.1.0         |       h516909a_3         845 KB  conda-forge\n",
            "    libxcb-1.13                |    h14c3975_1002         396 KB  conda-forge\n",
            "    libxml2-2.9.10             |       h72b56ed_1         1.3 MB  conda-forge\n",
            "    lz4-c-1.9.2                |       he1b5a44_1         226 KB  conda-forge\n",
            "    numpy-1.18.5               |   py37h8960a57_0         5.1 MB  conda-forge\n",
            "    olefile-0.46               |             py_0          31 KB  conda-forge\n",
            "    openssl-1.1.1g             |       h516909a_0         2.1 MB  conda-forge\n",
            "    pandas-1.0.5               |   py37h0da4684_0        10.1 MB  conda-forge\n",
            "    pcre-8.44                  |       he1b5a44_0         261 KB  conda-forge\n",
            "    pillow-7.0.0               |   py37hb39fc2d_0         598 KB\n",
            "    pixman-0.38.0              |    h516909a_1003         594 KB  conda-forge\n",
            "    pthread-stubs-0.4          |    h14c3975_1001           5 KB  conda-forge\n",
            "    pycairo-1.19.1             |   py37h01af8b0_3          77 KB  conda-forge\n",
            "    python-dateutil-2.8.1      |             py_0         220 KB  conda-forge\n",
            "    python_abi-3.7             |          1_cp37m           4 KB  conda-forge\n",
            "    pytz-2020.1                |     pyh9f0ad1d_0         227 KB  conda-forge\n",
            "    rdkit-2020.03.4            |   py37hdd87690_0        24.6 MB  conda-forge\n",
            "    xorg-kbproto-1.0.7         |    h14c3975_1002          26 KB  conda-forge\n",
            "    xorg-libice-1.0.10         |       h516909a_0          57 KB  conda-forge\n",
            "    xorg-libsm-1.2.3           |    h84519dc_1000          25 KB  conda-forge\n",
            "    xorg-libx11-1.6.9          |       h516909a_0         918 KB  conda-forge\n",
            "    xorg-libxau-1.0.9          |       h14c3975_0          13 KB  conda-forge\n",
            "    xorg-libxdmcp-1.1.3        |       h516909a_0          18 KB  conda-forge\n",
            "    xorg-libxext-1.3.4         |       h516909a_0          51 KB  conda-forge\n",
            "    xorg-libxrender-0.9.10     |    h516909a_1002          31 KB  conda-forge\n",
            "    xorg-renderproto-0.11.1    |    h14c3975_1002           8 KB  conda-forge\n",
            "    xorg-xextproto-7.3.0       |    h14c3975_1002          27 KB  conda-forge\n",
            "    xorg-xproto-7.0.31         |    h14c3975_1007          72 KB  conda-forge\n",
            "    zstd-1.4.4                 |       h6597ccf_3         991 KB  conda-forge\n",
            "    ------------------------------------------------------------\n",
            "                                           Total:       100.2 MB\n",
            "\n",
            "The following NEW packages will be INSTALLED:\n",
            "\n",
            "  boost              conda-forge/linux-64::boost-1.72.0-py37h9de70de_0\n",
            "  boost-cpp          conda-forge/linux-64::boost-cpp-1.72.0-h7b93d67_2\n",
            "  bzip2              conda-forge/linux-64::bzip2-1.0.8-h516909a_2\n",
            "  cairo              conda-forge/linux-64::cairo-1.16.0-h3fc0475_1005\n",
            "  fontconfig         conda-forge/linux-64::fontconfig-2.13.1-h1056068_1002\n",
            "  freetype           conda-forge/linux-64::freetype-2.10.2-he06d7ca_0\n",
            "  glib               pkgs/main/linux-64::glib-2.65.0-h3eb4bd4_0\n",
            "  icu                conda-forge/linux-64::icu-67.1-he1b5a44_0\n",
            "  jpeg               conda-forge/linux-64::jpeg-9d-h516909a_0\n",
            "  libblas            conda-forge/linux-64::libblas-3.8.0-14_openblas\n",
            "  libcblas           conda-forge/linux-64::libcblas-3.8.0-14_openblas\n",
            "  libgfortran-ng     conda-forge/linux-64::libgfortran-ng-7.5.0-hdf63c60_6\n",
            "  libiconv           conda-forge/linux-64::libiconv-1.15-h516909a_1006\n",
            "  liblapack          conda-forge/linux-64::liblapack-3.8.0-14_openblas\n",
            "  libopenblas        conda-forge/linux-64::libopenblas-0.3.7-h5ec1e0e_6\n",
            "  libpng             conda-forge/linux-64::libpng-1.6.37-hed695b0_1\n",
            "  libtiff            conda-forge/linux-64::libtiff-4.1.0-hc7e4089_6\n",
            "  libuuid            conda-forge/linux-64::libuuid-2.32.1-h14c3975_1000\n",
            "  libwebp-base       conda-forge/linux-64::libwebp-base-1.1.0-h516909a_3\n",
            "  libxcb             conda-forge/linux-64::libxcb-1.13-h14c3975_1002\n",
            "  libxml2            conda-forge/linux-64::libxml2-2.9.10-h72b56ed_1\n",
            "  lz4-c              conda-forge/linux-64::lz4-c-1.9.2-he1b5a44_1\n",
            "  numpy              conda-forge/linux-64::numpy-1.18.5-py37h8960a57_0\n",
            "  olefile            conda-forge/noarch::olefile-0.46-py_0\n",
            "  pandas             conda-forge/linux-64::pandas-1.0.5-py37h0da4684_0\n",
            "  pcre               conda-forge/linux-64::pcre-8.44-he1b5a44_0\n",
            "  pillow             pkgs/main/linux-64::pillow-7.0.0-py37hb39fc2d_0\n",
            "  pixman             conda-forge/linux-64::pixman-0.38.0-h516909a_1003\n",
            "  pthread-stubs      conda-forge/linux-64::pthread-stubs-0.4-h14c3975_1001\n",
            "  pycairo            conda-forge/linux-64::pycairo-1.19.1-py37h01af8b0_3\n",
            "  python-dateutil    conda-forge/noarch::python-dateutil-2.8.1-py_0\n",
            "  python_abi         conda-forge/linux-64::python_abi-3.7-1_cp37m\n",
            "  pytz               conda-forge/noarch::pytz-2020.1-pyh9f0ad1d_0\n",
            "  rdkit              conda-forge/linux-64::rdkit-2020.03.4-py37hdd87690_0\n",
            "  xorg-kbproto       conda-forge/linux-64::xorg-kbproto-1.0.7-h14c3975_1002\n",
            "  xorg-libice        conda-forge/linux-64::xorg-libice-1.0.10-h516909a_0\n",
            "  xorg-libsm         conda-forge/linux-64::xorg-libsm-1.2.3-h84519dc_1000\n",
            "  xorg-libx11        conda-forge/linux-64::xorg-libx11-1.6.9-h516909a_0\n",
            "  xorg-libxau        conda-forge/linux-64::xorg-libxau-1.0.9-h14c3975_0\n",
            "  xorg-libxdmcp      conda-forge/linux-64::xorg-libxdmcp-1.1.3-h516909a_0\n",
            "  xorg-libxext       conda-forge/linux-64::xorg-libxext-1.3.4-h516909a_0\n",
            "  xorg-libxrender    conda-forge/linux-64::xorg-libxrender-0.9.10-h516909a_1002\n",
            "  xorg-renderproto   conda-forge/linux-64::xorg-renderproto-0.11.1-h14c3975_1002\n",
            "  xorg-xextproto     conda-forge/linux-64::xorg-xextproto-7.3.0-h14c3975_1002\n",
            "  xorg-xproto        conda-forge/linux-64::xorg-xproto-7.0.31-h14c3975_1007\n",
            "  zstd               conda-forge/linux-64::zstd-1.4.4-h6597ccf_3\n",
            "\n",
            "The following packages will be UPDATED:\n",
            "\n",
            "  ca-certificates     pkgs/main::ca-certificates-2020.1.1-0 --> conda-forge::ca-certificates-2020.6.20-hecda079_0\n",
            "  certifi              pkgs/main::certifi-2020.4.5.1-py37_0 --> conda-forge::certifi-2020.6.20-py37hc8dfbb8_0\n",
            "  conda                       pkgs/main::conda-4.8.3-py37_0 --> conda-forge::conda-4.8.3-py37hc8dfbb8_1\n",
            "\n",
            "The following packages will be SUPERSEDED by a higher-priority channel:\n",
            "\n",
            "  openssl              pkgs/main::openssl-1.1.1g-h7b6447c_0 --> conda-forge::openssl-1.1.1g-h516909a_0\n",
            "\n",
            "\n",
            "Preparing transaction: ...working... done\n",
            "Verifying transaction: ...working... done\n",
            "Executing transaction: ...working... done\n",
            "\n",
            "real\t0m41.291s\n",
            "user\t0m34.926s\n",
            "sys\t0m4.659s\n"
          ],
          "name": "stdout"
        }
      ]
    },
    {
      "cell_type": "code",
      "metadata": {
        "id": "0QBnPcl_Q9i5",
        "colab_type": "code",
        "colab": {}
      },
      "source": [
        "import sys\n",
        "sys.path.append('/usr/local/lib/python3.7/site-packages/')"
      ],
      "execution_count": null,
      "outputs": []
    },
    {
      "cell_type": "markdown",
      "metadata": {
        "id": "1PA55FW9M4x1",
        "colab_type": "text"
      },
      "source": [
        "## Install the **signaturizer** package"
      ]
    },
    {
      "cell_type": "code",
      "metadata": {
        "id": "xpnKeewTM9yT",
        "colab_type": "code",
        "colab": {
          "base_uri": "https://localhost:8080/",
          "height": 1000
        },
        "outputId": "71bade66-9541-402d-eb00-feffbc8be1b1"
      },
      "source": [
        "!pip install signaturizer"
      ],
      "execution_count": null,
      "outputs": [
        {
          "output_type": "stream",
          "text": [
            "Collecting signaturizer\n",
            "  Downloading signaturizer-1.1.0.tar.gz (8.9 kB)\n",
            "Requirement already satisfied: tensorflow in /tensorflow-1.15.2/python3.6 (from signaturizer) (1.15.2)\n",
            "Collecting tensorflow_hub\n",
            "  Downloading tensorflow_hub-0.8.0-py2.py3-none-any.whl (101 kB)\n",
            "\u001b[K     |████████████████████████████████| 101 kB 2.9 MB/s \n",
            "\u001b[?25hRequirement already satisfied: numpy in /usr/local/lib/python3.7/site-packages (from signaturizer) (1.18.5)\n",
            "Collecting h5py\n",
            "  Downloading h5py-2.10.0-cp37-cp37m-manylinux1_x86_64.whl (2.9 MB)\n",
            "\u001b[K     |████████████████████████████████| 2.9 MB 6.8 MB/s \n",
            "\u001b[?25hCollecting termcolor>=1.1.0\n",
            "  Downloading termcolor-1.1.0.tar.gz (3.9 kB)\n",
            "Requirement already satisfied: six>=1.10.0 in /usr/local/lib/python3.7/site-packages (from tensorflow->signaturizer) (1.14.0)\n",
            "Collecting astor>=0.6.0\n",
            "  Downloading astor-0.8.1-py2.py3-none-any.whl (27 kB)\n",
            "Collecting absl-py>=0.7.0\n",
            "  Downloading absl-py-0.9.0.tar.gz (104 kB)\n",
            "\u001b[K     |████████████████████████████████| 104 kB 26.4 MB/s \n",
            "\u001b[?25hRequirement already satisfied: tensorboard<1.16.0,>=1.15.0 in /tensorflow-1.15.2/python3.6 (from tensorflow->signaturizer) (1.15.0)\n",
            "Requirement already satisfied: wheel>=0.26; python_version >= \"3\" in /usr/local/lib/python3.7/site-packages (from tensorflow->signaturizer) (0.34.2)\n",
            "Collecting keras-applications>=1.0.8\n",
            "  Downloading Keras_Applications-1.0.8-py3-none-any.whl (50 kB)\n",
            "\u001b[K     |████████████████████████████████| 50 kB 6.6 MB/s \n",
            "\u001b[?25hCollecting gast==0.2.2\n",
            "  Downloading gast-0.2.2.tar.gz (10 kB)\n",
            "Collecting protobuf>=3.6.1\n",
            "  Downloading protobuf-3.12.2-cp37-cp37m-manylinux1_x86_64.whl (1.3 MB)\n",
            "\u001b[K     |████████████████████████████████| 1.3 MB 20.2 MB/s \n",
            "\u001b[?25hCollecting grpcio>=1.8.6\n",
            "  Downloading grpcio-1.30.0-cp37-cp37m-manylinux2010_x86_64.whl (3.0 MB)\n",
            "\u001b[K     |████████████████████████████████| 3.0 MB 41.6 MB/s \n",
            "\u001b[?25hCollecting wrapt>=1.11.1\n",
            "  Downloading wrapt-1.12.1.tar.gz (27 kB)\n",
            "Collecting keras-preprocessing>=1.0.5\n",
            "  Downloading Keras_Preprocessing-1.1.2-py2.py3-none-any.whl (42 kB)\n",
            "\u001b[K     |████████████████████████████████| 42 kB 1.3 MB/s \n",
            "\u001b[?25hCollecting google-pasta>=0.1.6\n",
            "  Downloading google_pasta-0.2.0-py3-none-any.whl (57 kB)\n",
            "\u001b[K     |████████████████████████████████| 57 kB 4.9 MB/s \n",
            "\u001b[?25hCollecting opt-einsum>=2.3.2\n",
            "  Downloading opt_einsum-3.2.1-py3-none-any.whl (63 kB)\n",
            "\u001b[K     |████████████████████████████████| 63 kB 2.0 MB/s \n",
            "\u001b[?25hRequirement already satisfied: tensorflow-estimator==1.15.1 in /tensorflow-1.15.2/python3.6 (from tensorflow->signaturizer) (1.15.1)\n",
            "Collecting markdown>=2.6.8\n",
            "  Downloading Markdown-3.2.2-py3-none-any.whl (88 kB)\n",
            "\u001b[K     |████████████████████████████████| 88 kB 8.3 MB/s \n",
            "\u001b[?25hCollecting werkzeug>=0.11.15\n",
            "  Downloading Werkzeug-1.0.1-py2.py3-none-any.whl (298 kB)\n",
            "\u001b[K     |████████████████████████████████| 298 kB 56.0 MB/s \n",
            "\u001b[?25hRequirement already satisfied: setuptools>=41.0.0 in /usr/local/lib/python3.7/site-packages (from tensorboard<1.16.0,>=1.15.0->tensorflow->signaturizer) (46.4.0.post20200518)\n",
            "Collecting importlib-metadata; python_version < \"3.8\"\n",
            "  Downloading importlib_metadata-1.7.0-py2.py3-none-any.whl (31 kB)\n",
            "Collecting zipp>=0.5\n",
            "  Downloading zipp-3.1.0-py3-none-any.whl (4.9 kB)\n",
            "Building wheels for collected packages: signaturizer, termcolor, absl-py, gast, wrapt\n",
            "  Building wheel for signaturizer (setup.py) ... \u001b[?25l\u001b[?25hdone\n",
            "  Created wheel for signaturizer: filename=signaturizer-1.1.0-py3-none-any.whl size=10681 sha256=3b8632e0ab07e4ebb642a7c0ea1386ea678a87992832c18df33cb7ed67f77813\n",
            "  Stored in directory: /root/.cache/pip/wheels/a1/9c/f4/ba4302b407a0d9a128ba6f7ac4e3f7f6506e4aeb9aad0b6ba8\n",
            "  Building wheel for termcolor (setup.py) ... \u001b[?25l\u001b[?25hdone\n",
            "  Created wheel for termcolor: filename=termcolor-1.1.0-py3-none-any.whl size=4830 sha256=765effbddd6252cc53c4b9758ad234ed69e1a5cde176957440fcb3430a116760\n",
            "  Stored in directory: /root/.cache/pip/wheels/3f/e3/ec/8a8336ff196023622fbcb36de0c5a5c218cbb24111d1d4c7f2\n",
            "  Building wheel for absl-py (setup.py) ... \u001b[?25l\u001b[?25hdone\n",
            "  Created wheel for absl-py: filename=absl_py-0.9.0-py3-none-any.whl size=121931 sha256=cfaaa84f7c62d81939b3749884d13f26e5aed9f5d979a96527084baaec784a1b\n",
            "  Stored in directory: /root/.cache/pip/wheels/cc/af/1a/498a24d0730ef484019e007bb9e8cef3ac00311a672c049a3e\n",
            "  Building wheel for gast (setup.py) ... \u001b[?25l\u001b[?25hdone\n",
            "  Created wheel for gast: filename=gast-0.2.2-py3-none-any.whl size=7539 sha256=426b04f811399bfa125103c5c44615cdd794c9543a2792d949fe43dba1c06015\n",
            "  Stored in directory: /root/.cache/pip/wheels/21/7f/02/420f32a803f7d0967b48dd823da3f558c5166991bfd204eef3\n",
            "  Building wheel for wrapt (setup.py) ... \u001b[?25l\u001b[?25hdone\n",
            "  Created wheel for wrapt: filename=wrapt-1.12.1-cp37-cp37m-linux_x86_64.whl size=70930 sha256=e5cb79716007084ec32087be3fe83d1b9814e186ab6d6c6639652992fe6bb5c3\n",
            "  Stored in directory: /root/.cache/pip/wheels/62/76/4c/aa25851149f3f6d9785f6c869387ad82b3fd37582fa8147ac6\n",
            "Successfully built signaturizer termcolor absl-py gast wrapt\n",
            "\u001b[31mERROR: tensor2tensor 1.14.1 requires dopamine-rl, which is not installed.\u001b[0m\n",
            "\u001b[31mERROR: tensor2tensor 1.14.1 requires flask, which is not installed.\u001b[0m\n",
            "\u001b[31mERROR: tensor2tensor 1.14.1 requires future, which is not installed.\u001b[0m\n",
            "\u001b[31mERROR: tensor2tensor 1.14.1 requires gin-config, which is not installed.\u001b[0m\n",
            "\u001b[31mERROR: tensor2tensor 1.14.1 requires google-api-python-client, which is not installed.\u001b[0m\n",
            "\u001b[31mERROR: tensor2tensor 1.14.1 requires gym, which is not installed.\u001b[0m\n",
            "\u001b[31mERROR: tensor2tensor 1.14.1 requires oauth2client, which is not installed.\u001b[0m\n",
            "\u001b[31mERROR: tensor2tensor 1.14.1 requires opencv-python, which is not installed.\u001b[0m\n",
            "\u001b[31mERROR: tensor2tensor 1.14.1 requires scipy, which is not installed.\u001b[0m\n",
            "\u001b[31mERROR: tensor2tensor 1.14.1 requires sympy, which is not installed.\u001b[0m\n",
            "\u001b[31mERROR: tensor2tensor 1.14.1 requires tensorflow-datasets, which is not installed.\u001b[0m\n",
            "\u001b[31mERROR: stable-baselines 2.2.1 requires click, which is not installed.\u001b[0m\n",
            "\u001b[31mERROR: stable-baselines 2.2.1 requires cloudpickle, which is not installed.\u001b[0m\n",
            "\u001b[31mERROR: stable-baselines 2.2.1 requires dill, which is not installed.\u001b[0m\n",
            "\u001b[31mERROR: stable-baselines 2.2.1 requires glob2, which is not installed.\u001b[0m\n",
            "\u001b[31mERROR: stable-baselines 2.2.1 requires gym[atari,classic_control]>=0.10.9, which is not installed.\u001b[0m\n",
            "\u001b[31mERROR: stable-baselines 2.2.1 requires joblib, which is not installed.\u001b[0m\n",
            "\u001b[31mERROR: stable-baselines 2.2.1 requires matplotlib, which is not installed.\u001b[0m\n",
            "\u001b[31mERROR: stable-baselines 2.2.1 requires opencv-python, which is not installed.\u001b[0m\n",
            "\u001b[31mERROR: stable-baselines 2.2.1 requires progressbar2, which is not installed.\u001b[0m\n",
            "\u001b[31mERROR: stable-baselines 2.2.1 requires scipy, which is not installed.\u001b[0m\n",
            "\u001b[31mERROR: stable-baselines 2.2.1 requires seaborn, which is not installed.\u001b[0m\n",
            "\u001b[31mERROR: mesh-tensorflow 0.1.12 requires future, which is not installed.\u001b[0m\n",
            "\u001b[31mERROR: mesh-tensorflow 0.1.12 requires gin-config, which is not installed.\u001b[0m\n",
            "\u001b[31mERROR: magenta 0.3.19 requires bokeh>=0.12.0, which is not installed.\u001b[0m\n",
            "\u001b[31mERROR: magenta 0.3.19 requires intervaltree>=2.1.0, which is not installed.\u001b[0m\n",
            "\u001b[31mERROR: magenta 0.3.19 requires IPython, which is not installed.\u001b[0m\n",
            "\u001b[31mERROR: magenta 0.3.19 requires joblib>=0.12, which is not installed.\u001b[0m\n",
            "\u001b[31mERROR: magenta 0.3.19 requires librosa>=0.6.2, which is not installed.\u001b[0m\n",
            "\u001b[31mERROR: magenta 0.3.19 requires matplotlib>=1.5.3, which is not installed.\u001b[0m\n",
            "\u001b[31mERROR: magenta 0.3.19 requires scipy>=0.18.1, which is not installed.\u001b[0m\n",
            "\u001b[31mERROR: graph-nets 1.0.5 requires future, which is not installed.\u001b[0m\n",
            "\u001b[31mERROR: graph-nets 1.0.5 requires networkx, which is not installed.\u001b[0m\n",
            "\u001b[31mERROR: dm-sonnet 1.35 requires contextlib2, which is not installed.\u001b[0m\n",
            "Installing collected packages: protobuf, tensorflow-hub, h5py, signaturizer, termcolor, astor, absl-py, keras-applications, gast, grpcio, wrapt, keras-preprocessing, google-pasta, opt-einsum, zipp, importlib-metadata, markdown, werkzeug\n",
            "Successfully installed absl-py-0.9.0 astor-0.8.1 gast-0.2.2 google-pasta-0.2.0 grpcio-1.30.0 h5py-2.10.0 importlib-metadata-1.7.0 keras-applications-1.0.8 keras-preprocessing-1.1.2 markdown-3.2.2 opt-einsum-3.2.1 protobuf-3.12.2 signaturizer-1.1.0 tensorflow-hub-0.8.0 termcolor-1.1.0 werkzeug-1.0.1 wrapt-1.12.1 zipp-3.1.0\n"
          ],
          "name": "stdout"
        },
        {
          "output_type": "display_data",
          "data": {
            "application/vnd.colab-display-data+json": {
              "pip_warning": {
                "packages": [
                  "grpc"
                ]
              }
            }
          },
          "metadata": {
            "tags": []
          }
        }
      ]
    },
    {
      "cell_type": "markdown",
      "metadata": {
        "id": "T5MDJ-6diK9f",
        "colab_type": "text"
      },
      "source": [
        "# Basic usage"
      ]
    },
    {
      "cell_type": "markdown",
      "metadata": {
        "id": "PH17HwDMiGSJ",
        "colab_type": "text"
      },
      "source": [
        "## Generating Bioactivity Signatures"
      ]
    },
    {
      "cell_type": "code",
      "metadata": {
        "id": "aSXE4FRsOthC",
        "colab_type": "code",
        "colab": {
          "base_uri": "https://localhost:8080/",
          "height": 68
        },
        "outputId": "b038c9d8-0b75-422a-da4d-699d74f04897"
      },
      "source": [
        "from signaturizer import Signaturizer\n",
        "# load the predictor for B1 space (representing the Mode of Action)\n",
        "sign = Signaturizer('B1')\n",
        "# prepare a list of SMILES strings\n",
        "smiles = ['C', 'CCC']\n",
        "# run prediction\n",
        "results = sign.predict(smiles)"
      ],
      "execution_count": null,
      "outputs": [
        {
          "output_type": "stream",
          "text": [
            "\r  0%|          | 0/1 [00:00<?, ?it/s]"
          ],
          "name": "stderr"
        },
        {
          "output_type": "stream",
          "text": [
            "LOADING remote: http://chemicalchecker.com/api/db/getSignaturizer/v1/B1\n"
          ],
          "name": "stdout"
        },
        {
          "output_type": "stream",
          "text": [
            "100%|██████████| 1/1 [00:00<00:00,  9.83it/s]"
          ],
          "name": "stderr"
        },
        {
          "output_type": "stream",
          "text": [
            "PREDICTION complete!\n"
          ],
          "name": "stdout"
        },
        {
          "output_type": "stream",
          "text": [
            "\n"
          ],
          "name": "stderr"
        }
      ]
    },
    {
      "cell_type": "code",
      "metadata": {
        "id": "Wp0nC6j6iWHb",
        "colab_type": "code",
        "colab": {
          "base_uri": "https://localhost:8080/",
          "height": 34
        },
        "outputId": "9bd1bd31-0e10-45fe-fa67-b919c555c996"
      },
      "source": [
        "print(results.signature.shape)"
      ],
      "execution_count": null,
      "outputs": [
        {
          "output_type": "stream",
          "text": [
            "(2, 128)\n"
          ],
          "name": "stdout"
        }
      ]
    },
    {
      "cell_type": "code",
      "metadata": {
        "id": "7z9lfmdqPvNp",
        "colab_type": "code",
        "colab": {
          "base_uri": "https://localhost:8080/",
          "height": 765
        },
        "outputId": "a8cdefd5-41ac-46ad-c38e-e0754253c5b6"
      },
      "source": [
        "print(results.signature)"
      ],
      "execution_count": null,
      "outputs": [
        {
          "output_type": "stream",
          "text": [
            "[[-0.14229846  0.079988   -0.0108407   0.16682942 -0.14715977  0.0345403\n",
            "  -0.04940525 -0.0299123  -0.02812521  0.04851754 -0.0751914  -0.15773815\n",
            "   0.17171657 -0.0402149   0.05731795  0.01840392 -0.11413906  0.15063329\n",
            "   0.02016284  0.02207784 -0.11493312  0.00099877  0.05556487 -0.06619342\n",
            "   0.01336694  0.01084529 -0.00307423 -0.10399567 -0.13550924 -0.11824676\n",
            "   0.00908166 -0.12131458  0.00374519  0.03948187 -0.0170527  -0.15320577\n",
            "  -0.11677633  0.02146511 -0.1542775  -0.06272464 -0.08233681 -0.08792384\n",
            "  -0.10899878 -0.06019147 -0.04026137 -0.07017165 -0.00706073 -0.05537233\n",
            "   0.13329253  0.05971988  0.18887898 -0.14046773 -0.10550749 -0.07616345\n",
            "   0.09923495 -0.06871163  0.13480408 -0.10783799 -0.01686241 -0.02682001\n",
            "   0.13261575  0.1491388   0.11526254 -0.12688403 -0.0676789  -0.12894797\n",
            "   0.1341134  -0.11524991 -0.05405083 -0.12864871  0.05762549  0.00823569\n",
            "   0.03940435 -0.00629326  0.02878091  0.07341221 -0.07642188 -0.01696387\n",
            "  -0.02422101  0.03026091  0.10609307 -0.00912618  0.08049461  0.02929756\n",
            "  -0.03125893 -0.02946886  0.07124458 -0.1177504  -0.01351525 -0.10172355\n",
            "  -0.12308686  0.00695223  0.02570131 -0.0451206  -0.0955601  -0.05963705\n",
            "  -0.09273443  0.03420458 -0.0991488   0.02792547 -0.11005347  0.12113357\n",
            "  -0.04114267  0.02728662 -0.08796234 -0.07385477  0.0699536   0.02572362\n",
            "  -0.12528174 -0.01083714  0.07667984 -0.12302046  0.06663571 -0.17418759\n",
            "  -0.04360186  0.06503488  0.15691572 -0.01631222  0.08904499  0.13069993\n",
            "   0.07093433 -0.09859953  0.09715424 -0.00432612 -0.03901584 -0.06680525\n",
            "   0.02683559  0.1479501 ]\n",
            " [-0.14703889 -0.02598152 -0.04776857  0.17422831 -0.115826   -0.02059701\n",
            "   0.03540422  0.10654003 -0.12048529  0.10042617 -0.12029948 -0.06187846\n",
            "   0.14982826 -0.13266414 -0.09614685  0.02360344 -0.07277269  0.07260046\n",
            "   0.03823    -0.00187504 -0.15019418 -0.08454404  0.12765272 -0.03878471\n",
            "   0.0287152   0.02193878 -0.05560116 -0.04595618 -0.18478183  0.03544031\n",
            "   0.05766599 -0.1548999   0.11545091  0.04422523 -0.10633925 -0.09342162\n",
            "   0.09610669  0.03022273 -0.10568387  0.07860145 -0.11317192 -0.08838799\n",
            "  -0.04504354 -0.1438699  -0.11890359  0.07467643  0.03046253  0.11416799\n",
            "  -0.00224236  0.03391276  0.11960783 -0.04808236 -0.06732258 -0.07133476\n",
            "   0.00062635  0.05690908  0.11160225  0.06816922 -0.13853961  0.06713325\n",
            "   0.15387699  0.12929079  0.09318107 -0.11284234  0.04852172 -0.17116927\n",
            "   0.1189119  -0.04391617  0.04090127  0.0358757   0.02194606 -0.00412653\n",
            "   0.06016085  0.0773851  -0.09664784 -0.12153215 -0.01557208  0.06326498\n",
            "  -0.07374407  0.06135616 -0.00460677 -0.15540394 -0.01460991 -0.01619171\n",
            "  -0.08540951  0.06118917  0.0543075  -0.07436598  0.12448549 -0.0003194\n",
            "  -0.11372443  0.05908341  0.08851025 -0.03645826 -0.00094814 -0.03485588\n",
            "  -0.03563348  0.06629097 -0.06776609  0.04909104 -0.07614931 -0.01065134\n",
            "  -0.01107968 -0.07474106 -0.04007569 -0.01283677 -0.11111093  0.0033491\n",
            "  -0.06084269  0.0559362  -0.01772711 -0.1498857   0.13162531 -0.06970998\n",
            "   0.11415114 -0.06049298  0.1580552   0.07733871  0.10241488  0.02574221\n",
            "   0.01225463 -0.1379306  -0.10566523 -0.08603022  0.12072101 -0.13686423\n",
            "   0.02769592  0.13555491]]\n"
          ],
          "name": "stdout"
        }
      ]
    },
    {
      "cell_type": "markdown",
      "metadata": {
        "id": "wj6b_Xl4imiK",
        "colab_type": "text"
      },
      "source": [
        "## Generating multiple Signatures in one batch"
      ]
    },
    {
      "cell_type": "markdown",
      "metadata": {
        "id": "ov7mmmaYkgiu",
        "colab_type": "text"
      },
      "source": [
        "Loaded models are cached locally, so that the model download (takes time) is happening only once"
      ]
    },
    {
      "cell_type": "code",
      "metadata": {
        "id": "7wYXLKpMid9u",
        "colab_type": "code",
        "colab": {
          "base_uri": "https://localhost:8080/",
          "height": 136
        },
        "outputId": "46977f6b-cf92-4b77-d972-ee5cd72d3bdd"
      },
      "source": [
        "sign = Signaturizer(['B1', 'E4', 'A5', 'D3'])\n",
        "# prepare a list of SMILES strings\n",
        "smiles = ['C', 'CCC']\n",
        "# run prediction\n",
        "results = sign.predict(smiles)\n",
        "print(results.signature.shape)"
      ],
      "execution_count": null,
      "outputs": [
        {
          "output_type": "stream",
          "text": [
            "LOADING remote: http://chemicalchecker.com/api/db/getSignaturizer/v1/B1\n",
            "LOADING remote: http://chemicalchecker.com/api/db/getSignaturizer/v1/E4\n",
            "LOADING remote: http://chemicalchecker.com/api/db/getSignaturizer/v1/A5\n",
            "LOADING remote: http://chemicalchecker.com/api/db/getSignaturizer/v1/D3\n"
          ],
          "name": "stdout"
        },
        {
          "output_type": "stream",
          "text": [
            "100%|██████████| 1/1 [00:00<00:00,  1.45it/s]"
          ],
          "name": "stderr"
        },
        {
          "output_type": "stream",
          "text": [
            "PREDICTION complete!\n",
            "(2, 512)\n"
          ],
          "name": "stdout"
        },
        {
          "output_type": "stream",
          "text": [
            "\n"
          ],
          "name": "stderr"
        }
      ]
    },
    {
      "cell_type": "markdown",
      "metadata": {
        "id": "n9lWWYyMizlF",
        "colab_type": "text"
      },
      "source": [
        "## Generating Global Bioactivity Signatures"
      ]
    },
    {
      "cell_type": "code",
      "metadata": {
        "id": "NsLm7iKPisYF",
        "colab_type": "code",
        "colab": {
          "base_uri": "https://localhost:8080/",
          "height": 493
        },
        "outputId": "a56a011b-df92-422c-84e3-06548f024e06"
      },
      "source": [
        "sign = Signaturizer('GLOBAL')\n",
        "# prepare a list of SMILES strings\n",
        "smiles = ['C', 'CCC']\n",
        "# run prediction\n",
        "results = sign.predict(smiles)\n",
        "print(results.signature.shape)"
      ],
      "execution_count": null,
      "outputs": [
        {
          "output_type": "stream",
          "text": [
            "LOADING remote: http://chemicalchecker.com/api/db/getSignaturizer/v1/A1\n",
            "LOADING remote: http://chemicalchecker.com/api/db/getSignaturizer/v1/A2\n",
            "LOADING remote: http://chemicalchecker.com/api/db/getSignaturizer/v1/A3\n",
            "LOADING remote: http://chemicalchecker.com/api/db/getSignaturizer/v1/A4\n",
            "LOADING remote: http://chemicalchecker.com/api/db/getSignaturizer/v1/A5\n",
            "LOADING remote: http://chemicalchecker.com/api/db/getSignaturizer/v1/B1\n",
            "LOADING remote: http://chemicalchecker.com/api/db/getSignaturizer/v1/B2\n",
            "LOADING remote: http://chemicalchecker.com/api/db/getSignaturizer/v1/B3\n",
            "LOADING remote: http://chemicalchecker.com/api/db/getSignaturizer/v1/B4\n",
            "LOADING remote: http://chemicalchecker.com/api/db/getSignaturizer/v1/B5\n",
            "LOADING remote: http://chemicalchecker.com/api/db/getSignaturizer/v1/C1\n",
            "LOADING remote: http://chemicalchecker.com/api/db/getSignaturizer/v1/C2\n",
            "LOADING remote: http://chemicalchecker.com/api/db/getSignaturizer/v1/C3\n",
            "LOADING remote: http://chemicalchecker.com/api/db/getSignaturizer/v1/C4\n",
            "LOADING remote: http://chemicalchecker.com/api/db/getSignaturizer/v1/C5\n",
            "LOADING remote: http://chemicalchecker.com/api/db/getSignaturizer/v1/D1\n",
            "LOADING remote: http://chemicalchecker.com/api/db/getSignaturizer/v1/D2\n",
            "LOADING remote: http://chemicalchecker.com/api/db/getSignaturizer/v1/D3\n",
            "LOADING remote: http://chemicalchecker.com/api/db/getSignaturizer/v1/D4\n",
            "LOADING remote: http://chemicalchecker.com/api/db/getSignaturizer/v1/D5\n",
            "LOADING remote: http://chemicalchecker.com/api/db/getSignaturizer/v1/E1\n",
            "LOADING remote: http://chemicalchecker.com/api/db/getSignaturizer/v1/E2\n",
            "LOADING remote: http://chemicalchecker.com/api/db/getSignaturizer/v1/E3\n",
            "LOADING remote: http://chemicalchecker.com/api/db/getSignaturizer/v1/E4\n",
            "LOADING remote: http://chemicalchecker.com/api/db/getSignaturizer/v1/E5\n"
          ],
          "name": "stdout"
        },
        {
          "output_type": "stream",
          "text": [
            "100%|██████████| 1/1 [00:18<00:00, 18.85s/it]"
          ],
          "name": "stderr"
        },
        {
          "output_type": "stream",
          "text": [
            "PREDICTION complete!\n",
            "(2, 3200)\n"
          ],
          "name": "stdout"
        },
        {
          "output_type": "stream",
          "text": [
            "\n"
          ],
          "name": "stderr"
        }
      ]
    },
    {
      "cell_type": "markdown",
      "metadata": {
        "id": "NCbAJPnYjuv6",
        "colab_type": "text"
      },
      "source": [
        "## Saving results to h5"
      ]
    },
    {
      "cell_type": "markdown",
      "metadata": {
        "id": "uEsM2iHbk7iH",
        "colab_type": "text"
      },
      "source": [
        "When signatures for a lot of molecules are desired, it is better to save them to disk, avoiding consuming all system memory."
      ]
    },
    {
      "cell_type": "code",
      "metadata": {
        "id": "NQtJidPIi38B",
        "colab_type": "code",
        "colab": {
          "base_uri": "https://localhost:8080/",
          "height": 51
        },
        "outputId": "bd61f3fd-2269-4cde-f9e2-acacc776e944"
      },
      "source": [
        "results = sign.predict(smiles, 'destination.h5')"
      ],
      "execution_count": null,
      "outputs": [
        {
          "output_type": "stream",
          "text": [
            "100%|██████████| 1/1 [00:29<00:00, 29.06s/it]"
          ],
          "name": "stderr"
        },
        {
          "output_type": "stream",
          "text": [
            "PREDICTION complete!\n"
          ],
          "name": "stdout"
        },
        {
          "output_type": "stream",
          "text": [
            "\n"
          ],
          "name": "stderr"
        }
      ]
    },
    {
      "cell_type": "code",
      "metadata": {
        "id": "kUi2c5TajZVB",
        "colab_type": "code",
        "colab": {
          "base_uri": "https://localhost:8080/",
          "height": 34
        },
        "outputId": "9f814510-b4a4-4f32-8ac0-d7734a4b13cb"
      },
      "source": [
        "import h5py\n",
        "with h5py.File('destination.h5', 'r') as fh:\n",
        "  signatures = fh['signature'][:]\n",
        "print(signatures.shape)"
      ],
      "execution_count": null,
      "outputs": [
        {
          "output_type": "stream",
          "text": [
            "(2, 3200)\n"
          ],
          "name": "stdout"
        }
      ]
    },
    {
      "cell_type": "markdown",
      "metadata": {
        "id": "OJ6BIyrXlYx6",
        "colab_type": "text"
      },
      "source": [
        "## Applicability predictions"
      ]
    },
    {
      "cell_type": "markdown",
      "metadata": {
        "id": "_y6i4vmIlfkJ",
        "colab_type": "text"
      },
      "source": [
        "WIP!! The applicability score help identifying molecules for which the signature prediction is extremely accurate"
      ]
    },
    {
      "cell_type": "code",
      "metadata": {
        "id": "uSKHZhj_j5AG",
        "colab_type": "code",
        "colab": {}
      },
      "source": [
        ""
      ],
      "execution_count": null,
      "outputs": []
    },
    {
      "cell_type": "markdown",
      "metadata": {
        "id": "lQXDRC09p2dk",
        "colab_type": "text"
      },
      "source": [
        "# Usage example"
      ]
    },
    {
      "cell_type": "code",
      "metadata": {
        "id": "KCUPgpB1p7Pb",
        "colab_type": "code",
        "colab": {
          "base_uri": "https://localhost:8080/",
          "height": 204
        },
        "outputId": "faa2afe5-15a4-4d35-b99a-2ac9db958e27"
      },
      "source": [
        "!wget http://gitlabsbnb.irbbarcelona.org/packages/signaturizer/raw/master/notebook/foodb_repr.csv"
      ],
      "execution_count": null,
      "outputs": [
        {
          "output_type": "stream",
          "text": [
            "--2020-07-13 15:38:56--  http://gitlabsbnb.irbbarcelona.org/packages/signaturizer/raw/master/notebook/foodb_repr.csv\n",
            "Resolving gitlabsbnb.irbbarcelona.org (gitlabsbnb.irbbarcelona.org)... 161.116.222.71\n",
            "Connecting to gitlabsbnb.irbbarcelona.org (gitlabsbnb.irbbarcelona.org)|161.116.222.71|:80... connected.\n",
            "HTTP request sent, awaiting response... 200 OK\n",
            "Length: 5535132 (5.3M) [text/plain]\n",
            "Saving to: ‘foodb_repr.csv’\n",
            "\n",
            "foodb_repr.csv      100%[===================>]   5.28M  1.94MB/s    in 2.7s    \n",
            "\n",
            "2020-07-13 15:39:00 (1.94 MB/s) - ‘foodb_repr.csv’ saved [5535132/5535132]\n",
            "\n"
          ],
          "name": "stdout"
        }
      ]
    },
    {
      "cell_type": "markdown",
      "metadata": {
        "id": "oeM4qUz11LlG",
        "colab_type": "text"
      },
      "source": [
        "## Data source\n",
        "In this notebook we will analize a representative subset of the [FooDB](https://foodb.ca/) compound library exploiting the Chemical Checker signatures generated _via_ our Signaturizers. Let's first inspect the  data:"
      ]
    },
    {
      "cell_type": "code",
      "metadata": {
        "id": "3zZwIfVs1Dfv",
        "colab_type": "code",
        "colab": {
          "base_uri": "https://localhost:8080/",
          "height": 419
        },
        "outputId": "545cf676-ed0b-4ba5-cb77-d016cd003105"
      },
      "source": [
        "import pandas as pd\n",
        "df = pd.read_csv('./foodb_repr.csv')\n",
        "df"
      ],
      "execution_count": null,
      "outputs": [
        {
          "output_type": "execute_result",
          "data": {
            "text/html": [
              "<div>\n",
              "<style scoped>\n",
              "    .dataframe tbody tr th:only-of-type {\n",
              "        vertical-align: middle;\n",
              "    }\n",
              "\n",
              "    .dataframe tbody tr th {\n",
              "        vertical-align: top;\n",
              "    }\n",
              "\n",
              "    .dataframe thead th {\n",
              "        text-align: right;\n",
              "    }\n",
              "</style>\n",
              "<table border=\"1\" class=\"dataframe\">\n",
              "  <thead>\n",
              "    <tr style=\"text-align: right;\">\n",
              "      <th></th>\n",
              "      <th>InChIKey</th>\n",
              "      <th>SMILES</th>\n",
              "      <th>food_name</th>\n",
              "      <th>food_subgroup</th>\n",
              "      <th>food_group</th>\n",
              "    </tr>\n",
              "  </thead>\n",
              "  <tbody>\n",
              "    <tr>\n",
              "      <th>0</th>\n",
              "      <td>AAARRLVSWMMLIL-JFDCHTIYSA-N</td>\n",
              "      <td>CC/C=C\\C/C=C\\C/C=C\\C/C=C\\CCCCCCC(=O)OC[C@H](CO...</td>\n",
              "      <td>Bison</td>\n",
              "      <td>Bovines</td>\n",
              "      <td>Animal foods</td>\n",
              "    </tr>\n",
              "    <tr>\n",
              "      <th>1</th>\n",
              "      <td>AAAUQAJYMBAEDN-SDYYSCIWSA-N</td>\n",
              "      <td>CC/C=C\\C/C=C\\C/C=C\\C/C=C\\CCCCCCC(=O)OC[C@H](CO...</td>\n",
              "      <td>Bison</td>\n",
              "      <td>Bovines</td>\n",
              "      <td>Animal foods</td>\n",
              "    </tr>\n",
              "    <tr>\n",
              "      <th>2</th>\n",
              "      <td>AAAVAOYFDZROJH-ODEQYEIHSA-N</td>\n",
              "      <td>CCCCCCCCCCCCCCCCC(=O)OC[C@@H](COC(=O)CCCCCCCCC...</td>\n",
              "      <td>Bison</td>\n",
              "      <td>Bovines</td>\n",
              "      <td>Animal foods</td>\n",
              "    </tr>\n",
              "    <tr>\n",
              "      <th>3</th>\n",
              "      <td>AAAYFFAGXKLUDV-AXAMJWTMSA-N</td>\n",
              "      <td>CC(C)CCCCCCCCCCCCCCCCCC(=O)OC[C@H](COC(=O)CCCC...</td>\n",
              "      <td>Bison</td>\n",
              "      <td>Bovines</td>\n",
              "      <td>Animal foods</td>\n",
              "    </tr>\n",
              "    <tr>\n",
              "      <th>4</th>\n",
              "      <td>AABORWYRSOFPIQ-NTOMMRJQSA-N</td>\n",
              "      <td>CCCCCCCCCCCCCCCCCCC(=O)OC[C@@H](COC(=O)CCCCCCC...</td>\n",
              "      <td>Bison</td>\n",
              "      <td>Bovines</td>\n",
              "      <td>Animal foods</td>\n",
              "    </tr>\n",
              "    <tr>\n",
              "      <th>...</th>\n",
              "      <td>...</td>\n",
              "      <td>...</td>\n",
              "      <td>...</td>\n",
              "      <td>...</td>\n",
              "      <td>...</td>\n",
              "    </tr>\n",
              "    <tr>\n",
              "      <th>47949</th>\n",
              "      <td>IKGXIBQEEMLURG-NVPNHPEKSA-N</td>\n",
              "      <td>C[C@@H]1O[C@@H](OC[C@H]2O[C@@H](Oc3c(-c4ccc(O)...</td>\n",
              "      <td>Berry wine</td>\n",
              "      <td>Fermented beverages</td>\n",
              "      <td>Beverages</td>\n",
              "    </tr>\n",
              "    <tr>\n",
              "      <th>47950</th>\n",
              "      <td>IKGXIBQEEMLURG-NVPNHPEKSA-N</td>\n",
              "      <td>C[C@@H]1O[C@@H](OC[C@H]2O[C@@H](Oc3c(-c4ccc(O)...</td>\n",
              "      <td>Berry wine</td>\n",
              "      <td>Fermented beverages</td>\n",
              "      <td>Beverages</td>\n",
              "    </tr>\n",
              "    <tr>\n",
              "      <th>47951</th>\n",
              "      <td>OXGUCUVFOIWWQJ-HQBVPOQASA-N</td>\n",
              "      <td>C[C@@H]1O[C@@H](Oc2c(-c3ccc(O)c(O)c3)oc3cc(O)c...</td>\n",
              "      <td>Berry wine</td>\n",
              "      <td>Fermented beverages</td>\n",
              "      <td>Beverages</td>\n",
              "    </tr>\n",
              "    <tr>\n",
              "      <th>47952</th>\n",
              "      <td>OXGUCUVFOIWWQJ-HQBVPOQASA-N</td>\n",
              "      <td>C[C@@H]1O[C@@H](Oc2c(-c3ccc(O)c(O)c3)oc3cc(O)c...</td>\n",
              "      <td>Berry wine</td>\n",
              "      <td>Fermented beverages</td>\n",
              "      <td>Beverages</td>\n",
              "    </tr>\n",
              "    <tr>\n",
              "      <th>47953</th>\n",
              "      <td>IMFOMPZKWQBDLQ-DLYKBUTRSA-N</td>\n",
              "      <td>CC1=CC(=O)CC(C)(C)C1/C=C\\C(C)=C\\C=C\\C(C)=C/C=C...</td>\n",
              "      <td>Dolphin fish</td>\n",
              "      <td>Fishes</td>\n",
              "      <td>Aquatic foods</td>\n",
              "    </tr>\n",
              "  </tbody>\n",
              "</table>\n",
              "<p>47954 rows × 5 columns</p>\n",
              "</div>"
            ],
            "text/plain": [
              "                          InChIKey  ...     food_group\n",
              "0      AAARRLVSWMMLIL-JFDCHTIYSA-N  ...   Animal foods\n",
              "1      AAAUQAJYMBAEDN-SDYYSCIWSA-N  ...   Animal foods\n",
              "2      AAAVAOYFDZROJH-ODEQYEIHSA-N  ...   Animal foods\n",
              "3      AAAYFFAGXKLUDV-AXAMJWTMSA-N  ...   Animal foods\n",
              "4      AABORWYRSOFPIQ-NTOMMRJQSA-N  ...   Animal foods\n",
              "...                            ...  ...            ...\n",
              "47949  IKGXIBQEEMLURG-NVPNHPEKSA-N  ...      Beverages\n",
              "47950  IKGXIBQEEMLURG-NVPNHPEKSA-N  ...      Beverages\n",
              "47951  OXGUCUVFOIWWQJ-HQBVPOQASA-N  ...      Beverages\n",
              "47952  OXGUCUVFOIWWQJ-HQBVPOQASA-N  ...      Beverages\n",
              "47953  IMFOMPZKWQBDLQ-DLYKBUTRSA-N  ...  Aquatic foods\n",
              "\n",
              "[47954 rows x 5 columns]"
            ]
          },
          "metadata": {
            "tags": []
          },
          "execution_count": 18
        }
      ]
    },
    {
      "cell_type": "markdown",
      "metadata": {
        "id": "Kw7UMnSq1WNy",
        "colab_type": "text"
      },
      "source": [
        "We have different column in this file, the most importand for our task is the **SMILES** columns. The SMILES format is a representation of the chemical structure of a compound which is our starting point."
      ]
    },
    {
      "cell_type": "code",
      "metadata": {
        "id": "FmA6lA7j1SIL",
        "colab_type": "code",
        "colab": {
          "base_uri": "https://localhost:8080/",
          "height": 119
        },
        "outputId": "385b544a-d5ff-4331-e04e-af0818453f7a"
      },
      "source": [
        "df.nunique()"
      ],
      "execution_count": null,
      "outputs": [
        {
          "output_type": "execute_result",
          "data": {
            "text/plain": [
              "InChIKey         6325\n",
              "SMILES           6325\n",
              "food_name         461\n",
              "food_subgroup      57\n",
              "food_group         17\n",
              "dtype: int64"
            ]
          },
          "metadata": {
            "tags": []
          },
          "execution_count": 19
        }
      ]
    },
    {
      "cell_type": "markdown",
      "metadata": {
        "id": "6kQEAen-1cGO",
        "colab_type": "text"
      },
      "source": [
        "Comparing the total number of rows (47954) to the number of unique entries (6325) we realize that molecules are repeated, and indeed different food can contain repeated compounds. For this reason we'll use a non redundant set of SMILES."
      ]
    },
    {
      "cell_type": "code",
      "metadata": {
        "id": "QiXculT_1Ysx",
        "colab_type": "code",
        "colab": {}
      },
      "source": [
        "smiles = df.SMILES.unique()"
      ],
      "execution_count": null,
      "outputs": []
    },
    {
      "cell_type": "markdown",
      "metadata": {
        "id": "lV-O6j6W1icV",
        "colab_type": "text"
      },
      "source": [
        "## Signatures\n",
        "Signatures are numerical representation of molecules. Having molecules represented as vector is needed if we want to do any quantitative analysis of our library (e.g. comparison, clustering, visualization ...). The advantage of using a signaturizer with respect to standard chemical representation (e.g. morgan fingerprint) is that we can leverage on the wealth of public bioactivity data that goes beyond chemical information.\n",
        "\n",
        "In the Chemical Checker we defined 25 bioactivity spaces which capture multiple aspect of a molecule. The stacked version of the signatures for these 25 spaces is what we call the _global_ signature, i.e. a general purpose entry point for our analisys."
      ]
    },
    {
      "cell_type": "code",
      "metadata": {
        "id": "7p9R91uG1er7",
        "colab_type": "code",
        "colab": {}
      },
      "source": [
        "# load the global bioactivity signaturizer\n",
        "from signaturizer import Signaturizer\n",
        "sign = Signaturizer('B4', verbose=False)"
      ],
      "execution_count": null,
      "outputs": []
    },
    {
      "cell_type": "markdown",
      "metadata": {
        "id": "TwkcsgWp1rH0",
        "colab_type": "text"
      },
      "source": [
        "For the sake of time we can just consider a random subsampling of these molecules."
      ]
    },
    {
      "cell_type": "code",
      "metadata": {
        "id": "N1b5vRbd1poj",
        "colab_type": "code",
        "colab": {}
      },
      "source": [
        "import numpy as np\n",
        "np.random.seed(42)\n",
        "subsample = np.random.choice(smiles, 1000, replace=False)\n",
        "result = sign.predict(subsample)"
      ],
      "execution_count": null,
      "outputs": []
    },
    {
      "cell_type": "code",
      "metadata": {
        "id": "-tW3NoYK1t9r",
        "colab_type": "code",
        "colab": {
          "base_uri": "https://localhost:8080/",
          "height": 34
        },
        "outputId": "6c8e8c0b-7687-426d-f53f-c2957de86100"
      },
      "source": [
        "result.signature.shape"
      ],
      "execution_count": null,
      "outputs": [
        {
          "output_type": "execute_result",
          "data": {
            "text/plain": [
              "(1000, 128)"
            ]
          },
          "metadata": {
            "tags": []
          },
          "execution_count": 24
        }
      ]
    },
    {
      "cell_type": "markdown",
      "metadata": {
        "id": "vb8_CN1C11bB",
        "colab_type": "text"
      },
      "source": [
        "## Visualization\n",
        "Only fantasy limits us in the way we can visualize the results generated."
      ]
    },
    {
      "cell_type": "code",
      "metadata": {
        "id": "ibYq88w91v4W",
        "colab_type": "code",
        "colab": {
          "base_uri": "https://localhost:8080/",
          "height": 71
        },
        "outputId": "c2ed95dc-0636-4d03-db0d-892af2a05d31"
      },
      "source": [
        "%matplotlib inline\n",
        "import matplotlib\n",
        "import seaborn as sns\n",
        "from matplotlib import gridspec, colors, colorbar, patches, lines\n",
        "import matplotlib.pyplot as plt"
      ],
      "execution_count": null,
      "outputs": [
        {
          "output_type": "stream",
          "text": [
            "/usr/local/lib/python3.6/dist-packages/statsmodels/tools/_testing.py:19: FutureWarning: pandas.util.testing is deprecated. Use the functions in the public API at pandas.testing instead.\n",
            "  import pandas.util.testing as tm\n"
          ],
          "name": "stderr"
        }
      ]
    },
    {
      "cell_type": "markdown",
      "metadata": {
        "id": "zJRH0Q6f17cU",
        "colab_type": "text"
      },
      "source": [
        "We can plot the overall distribution of values for all generated signatures, and appreciate their bimodal distribution."
      ]
    },
    {
      "cell_type": "code",
      "metadata": {
        "id": "KHPBRfiq14rI",
        "colab_type": "code",
        "colab": {
          "base_uri": "https://localhost:8080/",
          "height": 282
        },
        "outputId": "146951d6-ff24-4ed2-9a1d-58589e13e258"
      },
      "source": [
        "sns.distplot(result.signature.ravel())"
      ],
      "execution_count": null,
      "outputs": [
        {
          "output_type": "execute_result",
          "data": {
            "text/plain": [
              "<matplotlib.axes._subplots.AxesSubplot at 0x7f4f9027a550>"
            ]
          },
          "metadata": {
            "tags": []
          },
          "execution_count": 26
        },
        {
          "output_type": "display_data",
          "data": {
            "image/png": "[encoded data removed]",
            "text/plain": [
              "<Figure size 432x288 with 1 Axes>"
            ]
          },
          "metadata": {
            "tags": [],
            "needs_background": "light"
          }
        }
      ]
    },
    {
      "cell_type": "markdown",
      "metadata": {
        "id": "VM6cuYsV2Brp",
        "colab_type": "text"
      },
      "source": [
        "Or we can look at the raw matrix."
      ]
    },
    {
      "cell_type": "code",
      "metadata": {
        "id": "1KUGTeLS19-k",
        "colab_type": "code",
        "colab": {
          "base_uri": "https://localhost:8080/",
          "height": 286
        },
        "outputId": "12b793e4-5e8f-4f80-a094-0f7c81bd0f18"
      },
      "source": [
        "plt.imshow(result.signature, cmap='coolwarm')"
      ],
      "execution_count": null,
      "outputs": [
        {
          "output_type": "execute_result",
          "data": {
            "text/plain": [
              "<matplotlib.image.AxesImage at 0x7f4f97a6dc88>"
            ]
          },
          "metadata": {
            "tags": []
          },
          "execution_count": 27
        },
        {
          "output_type": "display_data",
          "data": {
            "image/png": "[encoded data removed]",
            "text/plain": [
              "<Figure size 432x288 with 1 Axes>"
            ]
          },
          "metadata": {
            "tags": [],
            "needs_background": "light"
          }
        }
      ]
    },
    {
      "cell_type": "markdown",
      "metadata": {
        "id": "MdAJjHDY2KxJ",
        "colab_type": "text"
      },
      "source": [
        "The signatures we generated have 3200 dimensions but looking at the raw data does not inform us on how similar/different are our molecules.\n",
        "\n",
        "In Cheminformatics we often need a graphical representation of the chemical space covered by a set of molecules.  In this representation, similar molecules will be close and molecules that are different will be far apart.\n",
        "\n",
        "We can use scikit-learn to create a lower bi-dimensional representation which will enable such visualization."
      ]
    },
    {
      "cell_type": "code",
      "metadata": {
        "id": "VhPVjLAa2EP6",
        "colab_type": "code",
        "colab": {}
      },
      "source": [
        "from sklearn.manifold import TSNE\n",
        "from sklearn.decomposition import PCA\n",
        "pca_red = PCA(n_components=128).fit_transform(result.signature)\n",
        "projection = TSNE(n_components=2).fit_transform(pca_red)"
      ],
      "execution_count": null,
      "outputs": []
    },
    {
      "cell_type": "code",
      "metadata": {
        "id": "BhOw47IB2WQ6",
        "colab_type": "code",
        "colab": {
          "base_uri": "https://localhost:8080/",
          "height": 282
        },
        "outputId": "7760731c-9f3e-4492-d9fa-3f59ff330ab0"
      },
      "source": [
        "plt.scatter(projection[:,0],projection[:,1], color='grey', alpha=.4)"
      ],
      "execution_count": null,
      "outputs": [
        {
          "output_type": "execute_result",
          "data": {
            "text/plain": [
              "<matplotlib.collections.PathCollection at 0x7f4f91c2b8d0>"
            ]
          },
          "metadata": {
            "tags": []
          },
          "execution_count": 29
        },
        {
          "output_type": "display_data",
          "data": {
            "image/png": "[encoded data removed]",
            "text/plain": [
              "<Figure size 432x288 with 1 Axes>"
            ]
          },
          "metadata": {
            "tags": [],
            "needs_background": "light"
          }
        }
      ]
    },
    {
      "cell_type": "markdown",
      "metadata": {
        "id": "YdFc6ir02c6k",
        "colab_type": "text"
      },
      "source": [
        "Now we can appreciate the diversity of our molecules and also that they are 'organized' with some form of structure. We can annotate molecules with the food of origin to highlight this structure.\n",
        "\n",
        "For example let's color all molecules coming from animal origin (i.e. meat):"
      ]
    },
    {
      "cell_type": "code",
      "metadata": {
        "id": "rmGJXIqY2Y9n",
        "colab_type": "code",
        "colab": {
          "base_uri": "https://localhost:8080/",
          "height": 282
        },
        "outputId": "31fb80c8-f8e7-4d2c-a399-6557f567204a"
      },
      "source": [
        "cat_smiles = df[df.food_group == 'Animal foods'].SMILES.unique()\n",
        "cat_mask = np.isin(subsample, cat_smiles)\n",
        "plt.scatter(projection[:,0],projection[:,1], color='lightgrey', alpha=.2)\n",
        "plt.scatter(projection[:,0][cat_mask],projection[:,1][cat_mask], color='red', alpha=0.2)"
      ],
      "execution_count": null,
      "outputs": [
        {
          "output_type": "execute_result",
          "data": {
            "text/plain": [
              "<matplotlib.collections.PathCollection at 0x7f4f8e6ee5c0>"
            ]
          },
          "metadata": {
            "tags": []
          },
          "execution_count": 30
        },
        {
          "output_type": "display_data",
          "data": {
            "image/png": "[encoded data removed]",
            "text/plain": [
              "<Figure size 432x288 with 1 Axes>"
            ]
          },
          "metadata": {
            "tags": [],
            "needs_background": "light"
          }
        }
      ]
    },
    {
      "cell_type": "markdown",
      "metadata": {
        "id": "nvUr_fOL2jVB",
        "colab_type": "text"
      },
      "source": [
        "We clearly see that molecules from this food source are localized in two clusers of our bioactivity space.\n",
        "\n",
        "If we go for compounds of vegetable orgin we can see, as expectable, that the two set of molecules do not overlap."
      ]
    },
    {
      "cell_type": "code",
      "metadata": {
        "id": "LrDzqFA02e7I",
        "colab_type": "code",
        "colab": {
          "base_uri": "https://localhost:8080/",
          "height": 282
        },
        "outputId": "a2aa4e5f-bb5b-4466-fac1-291294381ab6"
      },
      "source": [
        "cat_smiles = df[df.food_group == 'Vegetables'].SMILES.unique()\n",
        "cat_mask = np.isin(subsample, cat_smiles)\n",
        "plt.scatter(projection[:,0],projection[:,1], color='lightgrey', alpha=.2)\n",
        "plt.scatter(projection[:,0][cat_mask],projection[:,1][cat_mask], color='green', alpha=0.2)"
      ],
      "execution_count": null,
      "outputs": [
        {
          "output_type": "execute_result",
          "data": {
            "text/plain": [
              "<matplotlib.collections.PathCollection at 0x7f4f8ecd7da0>"
            ]
          },
          "metadata": {
            "tags": []
          },
          "execution_count": 31
        },
        {
          "output_type": "display_data",
          "data": {
            "image/png": "[encoded data removed]",
            "text/plain": [
              "<Figure size 432x288 with 1 Axes>"
            ]
          },
          "metadata": {
            "tags": [],
            "needs_background": "light"
          }
        }
      ]
    },
    {
      "cell_type": "code",
      "metadata": {
        "id": "O63aNP4D2mkt",
        "colab_type": "code",
        "colab": {}
      },
      "source": [
        ""
      ],
      "execution_count": null,
      "outputs": []
    }
  ]
}